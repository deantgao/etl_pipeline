{
 "cells": [
  {
   "cell_type": "code",
   "execution_count": 1,
   "metadata": {},
   "outputs": [],
   "source": [
    "import tabula\n",
    "import numpy as np\n",
    "import import_ipynb\n",
    "import pandas as pd\n",
    "import datetime as dt"
   ]
  },
  {
   "cell_type": "code",
   "execution_count": 2,
   "metadata": {},
   "outputs": [],
   "source": [
    "def read_files(filepath,skiprows=0,sep=None,pages='all',relative_area=[],columns=None):\n",
    "    if filepath.endswith('.sas7bdat') or filepath.endswith('.xpt'):\n",
    "        try:\n",
    "            data = pd.read_sas(filepath,encoding='ISO-8859-1')\n",
    "        except:\n",
    "            data = pd.read_sas(filepath,encoding='utf-8')\n",
    "    if filepath.endswith('.csv'):\n",
    "        try:\n",
    "            data = pd.read_csv(filepath,sep=sep,engine='python')\n",
    "        except:\n",
    "            data = pd.read_csv(filepath,sep='|')\n",
    "    if filepath.endswith('.TXT') or filepath.endswith('.txt'):\n",
    "        data = pd.read_csv(filepath,sep='[\\t|\\|]',encoding='ISO-8859-1',engine='python')\n",
    "    if filepath.endswith('.xlsx') or filepath.endswith('.xls') or filepath.endswith('.xlsm'):\n",
    "        data = pd.read_excel(filepath,skiprows=skiprows)\n",
    "    if filepath.endswith('.pdf'):\n",
    "        data = tabula.read_pdf(filepath,pages=pages,relative_area=relative_area,columns=columns)\n",
    "    return data"
   ]
  },
  {
   "cell_type": "code",
   "execution_count": 3,
   "metadata": {},
   "outputs": [],
   "source": [
    "def lowercase_all_vars(df):\n",
    "    df.columns = map(str.lower, df.columns)\n",
    "    return df"
   ]
  },
  {
   "cell_type": "code",
   "execution_count": 4,
   "metadata": {},
   "outputs": [],
   "source": [
    "def format_study_id(study_id):\n",
    "    if len(study_id) >= 9:\n",
    "        study_id = study_id.lower().replace('-','')\n",
    "        study_id = study_id[:3] + '_' + study_id[3:6] + '_' + study_id[6:]\n",
    "    return study_id"
   ]
  },
  {
   "cell_type": "code",
   "execution_count": 5,
   "metadata": {},
   "outputs": [],
   "source": [
    "def standardize_datetime(x):\n",
    "#     To be used if the original date is in the form ##-Mon-####\n",
    "    try:\n",
    "        date_dict = {'jan':'01','JAN':'01','feb':'02','FEB':'02','mar':'03','MAR':'03','apr':'04','APR':'04','may':'05','MAY':'05','jun':'06','JUN':'06','jul':'07','JUL':'07','aug':'08','AUG':'08','sep':'09','SEP':'09','oct':'10','OCT':'10','nov':'11','NOV':'11','dec':'12','DEC':'12'}\n",
    "        if 'a' in x or 'e' in x or 'u' in x or 'i' in x or 'o' in x or 'c' in x or 'p' in x or 'A' in x or 'E' in x or 'U' in x or 'I' in x or 'O' in x or 'C' in x or 'P' in x:\n",
    "            x = x.lower().split('-')\n",
    "            x.reverse()\n",
    "            x[1] = date_dict[x[1]]\n",
    "            x = ''.join(x)\n",
    "        if '-' in x:\n",
    "            x = x.replace('-','')\n",
    "        x = pd.to_datetime(x,format='%Y%m%d')\n",
    "    except:\n",
    "        pass\n",
    "    return x"
   ]
  },
  {
   "cell_type": "code",
   "execution_count": 6,
   "metadata": {},
   "outputs": [],
   "source": [
    "def convert_day_to_week(string):\n",
    "    string1 = string\n",
    "    if 'Day' in string1:\n",
    "        if int(string[-2:])>0 and int(string[-2:])<8:\n",
    "            string1 = 'Week 1'\n",
    "        if int(string[-2:])>=8 and int(string[-2:])<15:\n",
    "            string1 = 'Week 2'\n",
    "        if int(string[-2:])>=15 and int(string[-2:])<22:\n",
    "            string1 = 'Week 3'\n",
    "        if int(string[-2:])>=22 and int(string[-2:])<29:\n",
    "            string1 = 'Week 4'\n",
    "        if int(string[-2:])>=29 and int(string[-2:])<36:\n",
    "            string1 = 'Week 5'\n",
    "        if int(string[-2:])>=36 and int(string[-2:])<43:\n",
    "            string1 = 'Week 5'\n",
    "        if int(string[-2:])>=43 and int(string[-2:])<50:\n",
    "            string1 = 'Week 6'\n",
    "        if int(string[-2:])>=50 and int(string[-2:])<57:\n",
    "            string1 = 'Week 7'\n",
    "    return string1"
   ]
  },
  {
   "cell_type": "code",
   "execution_count": 7,
   "metadata": {},
   "outputs": [],
   "source": [
    "def multi_vals_col_to_list(vals):\n",
    "    if pd.isnull(vals):\n",
    "        vals = ''\n",
    "        return vals\n",
    "    vals = vals.split(',')\n",
    "    return vals"
   ]
  },
  {
   "cell_type": "code",
   "execution_count": 8,
   "metadata": {},
   "outputs": [],
   "source": [
    "def handle_nan(vals):\n",
    "    if pd.isnull(vals):\n",
    "        vals = ''\n",
    "    return vals"
   ]
  },
  {
   "cell_type": "code",
   "execution_count": 9,
   "metadata": {},
   "outputs": [],
   "source": [
    "def concat_patient_id(patient_id):\n",
    "    if '-' in patient_id:\n",
    "        patient_id = patient_id.replace('-','')\n",
    "    return patient_id"
   ]
  },
  {
   "cell_type": "code",
   "execution_count": 10,
   "metadata": {},
   "outputs": [],
   "source": [
    "def convert_age_to_dob(age,year_of_start):\n",
    "    study_year = dt.date(year_of_start,1,1)\n",
    "    dob = study_year - dt.timedelta(days=(age*365))\n",
    "    return dob"
   ]
  },
  {
   "cell_type": "code",
   "execution_count": 11,
   "metadata": {},
   "outputs": [],
   "source": [
    "def insert_row(df,idx,row_vals):\n",
    "    upper = df[:idx]\n",
    "    lower = df[idx:]\n",
    "    upper.loc[idx] = row_vals\n",
    "    new_df = pd.concat([upper,lower],axis=0).reset_index()\n",
    "    new_df = new_df.drop(['index'],axis=1)\n",
    "    return new_df"
   ]
  },
  {
   "cell_type": "code",
   "execution_count": 12,
   "metadata": {},
   "outputs": [],
   "source": [
    "def remove_nan_cols(df):\n",
    "    return df.dropna(axis=1,how='all')"
   ]
  },
  {
   "cell_type": "code",
   "execution_count": null,
   "metadata": {},
   "outputs": [],
   "source": []
  },
  {
   "cell_type": "code",
   "execution_count": null,
   "metadata": {},
   "outputs": [],
   "source": []
  }
 ],
 "metadata": {
  "kernelspec": {
   "display_name": "Python 3",
   "language": "python",
   "name": "python3"
  },
  "language_info": {
   "codemirror_mode": {
    "name": "ipython",
    "version": 3
   },
   "file_extension": ".py",
   "mimetype": "text/x-python",
   "name": "python",
   "nbconvert_exporter": "python",
   "pygments_lexer": "ipython3",
   "version": "3.8.3"
  }
 },
 "nbformat": 4,
 "nbformat_minor": 4
}
