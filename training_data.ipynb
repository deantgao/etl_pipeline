{
 "cells": [
  {
   "cell_type": "code",
   "execution_count": 1,
   "metadata": {},
   "outputs": [
    {
     "name": "stdout",
     "output_type": "stream",
     "text": [
      "importing Jupyter notebook from study_sites.ipynb\n",
      "importing Jupyter notebook from screen_fails.ipynb\n",
      "importing Jupyter notebook from data_files.ipynb\n",
      "importing Jupyter notebook from central_functions.ipynb\n",
      "C:/Users/dgao/Box/Intern Data Models/461-012/dta_demographics.txt\n",
      "C:/Users/dgao/Box/Intern Data Models/461-012/dta_iex_proc.txt\n",
      "C:/Users/dgao/Box/Intern Data Models/461-012/dta_sbj_participation.txt\n",
      "C:/Users/dgao/Box/Intern Data Models/461-012/dta_subject_termination.txt\n",
      "C:/Users/dgao/Box/Intern Data Models/461-012/dta_time_table.txt\n",
      "C:/Users/dgao/Box/Intern Data Models/461-012/elig_enroll_log.pdf\n",
      "C:/Users/dgao/Box/Intern Data Models/461-012/myk461-012_visit.csv\n",
      "C:/Users/dgao/Box/Intern Data Models/461-012/udp_pi_eligibility_statement.txt\n",
      "importing Jupyter notebook from patient_visits.ipynb\n",
      "0 C:/Users/dgao/Box/Intern Data Models/224-001/224_001_elig_enroll_log.csv\n",
      "1 C:/Users/dgao/Box/Intern Data Models/224-001/elig_enrollment_log.pdf\n",
      "2 C:/Users/dgao/Box/Intern Data Models/461-005/elig.sas7bdat\n",
      "3 C:/Users/dgao/Box/Intern Data Models/461-005/eligibility.sas7bdat\n",
      "4 C:/Users/dgao/Box/Intern Data Models/461-006/elig.sas7bdat\n",
      "5 C:/Users/dgao/Box/Intern Data Models/461-006/myk461006_eligibility_20200103164652.csv\n",
      "6 C:/Users/dgao/Box/Intern Data Models/461-007/blinded_myk461007_eligibility_20200616130001.txt\n",
      "7 C:/Users/dgao/Box/Intern Data Models/461-007/elig.sas7bdat\n",
      "8 C:/Users/dgao/Box/Intern Data Models/461-008/elig.sas7bdat\n",
      "9 C:/Users/dgao/Box/Intern Data Models/461-008/myk461008_eligibility_20200604010000.txt\n",
      "10 C:/Users/dgao/Box/Intern Data Models/461-012/dta_iex_proc.txt\n",
      "11 C:/Users/dgao/Box/Intern Data Models/461-012/elig_enroll_log.pdf\n",
      "12 C:/Users/dgao/Box/Intern Data Models/461-013/elig_enroll_counts.xls\n",
      "13 C:/Users/dgao/Box/Intern Data Models/461-014/dta_iex_proc.txt\n",
      "14 C:/Users/dgao/Box/Intern Data Models/461-014/elig_enroll_log.xlsm\n",
      "15 C:/Users/dgao/Box/Intern Data Models/461-015/elig_impairment_tracker.xlsx\n",
      "16 C:/Users/dgao/Box/Intern Data Models/461-018/dta_iex_proc.xlsx\n",
      "17 C:/Users/dgao/Box/Intern Data Models/461-018/dta_sbj_participation.xlsx\n",
      "0 C:/Users/dgao/Box/Intern Data Models/224-001/224_001_elig_enroll_log.csv\n",
      "1 C:/Users/dgao/Box/Intern Data Models/224-001/elig_enrollment_log.pdf\n",
      "2 C:/Users/dgao/Box/Intern Data Models/461-005/elig.sas7bdat\n",
      "3 C:/Users/dgao/Box/Intern Data Models/461-005/eligibility.sas7bdat\n",
      "4 C:/Users/dgao/Box/Intern Data Models/461-006/elig.sas7bdat\n",
      "5 C:/Users/dgao/Box/Intern Data Models/461-006/myk461006_eligibility_20200103164652.csv\n",
      "6 C:/Users/dgao/Box/Intern Data Models/461-007/blinded_myk461007_eligibility_20200616130001.txt\n",
      "7 C:/Users/dgao/Box/Intern Data Models/461-007/elig.sas7bdat\n",
      "8 C:/Users/dgao/Box/Intern Data Models/461-008/elig.sas7bdat\n",
      "9 C:/Users/dgao/Box/Intern Data Models/461-008/myk461008_eligibility_20200604010000.txt\n",
      "10 C:/Users/dgao/Box/Intern Data Models/461-012/dta_iex_proc.txt\n",
      "11 C:/Users/dgao/Box/Intern Data Models/461-012/elig_enroll_log.pdf\n",
      "12 C:/Users/dgao/Box/Intern Data Models/461-013/elig_enroll_counts.xls\n",
      "13 C:/Users/dgao/Box/Intern Data Models/461-014/dta_iex_proc.txt\n",
      "14 C:/Users/dgao/Box/Intern Data Models/461-014/elig_enroll_log.xlsm\n",
      "15 C:/Users/dgao/Box/Intern Data Models/461-015/elig_impairment_tracker.xlsx\n",
      "16 C:/Users/dgao/Box/Intern Data Models/461-018/dta_iex_proc.xlsx\n",
      "17 C:/Users/dgao/Box/Intern Data Models/461-018/dta_sbj_participation.xlsx\n"
     ]
    },
    {
     "name": "stderr",
     "output_type": "stream",
     "text": [
      "C:\\Users\\dgao\\Anaconda3\\lib\\site-packages\\pandas\\core\\indexing.py:671: SettingWithCopyWarning: \n",
      "A value is trying to be set on a copy of a slice from a DataFrame\n",
      "\n",
      "See the caveats in the documentation: https://pandas.pydata.org/pandas-docs/stable/user_guide/indexing.html#returning-a-view-versus-a-copy\n",
      "  self._setitem_with_indexer(indexer, value)\n"
     ]
    },
    {
     "name": "stdout",
     "output_type": "stream",
     "text": [
      "SF before check:  (709, 12)\n",
      "SF after check/dropping 'randomized' patients:  (677, 12)\n",
      "Number of patient IDs to add to visits:  290\n",
      "Num of rows in visits BEFORE rows added from SF:  9366\n",
      "This is the new # of rows in visits (should be 305 more) 9656\n",
      "(9656, 12)\n"
     ]
    },
    {
     "name": "stderr",
     "output_type": "stream",
     "text": [
      "<string>:2: SettingWithCopyWarning: \n",
      "A value is trying to be set on a copy of a slice from a DataFrame.\n",
      "Try using .loc[row_indexer,col_indexer] = value instead\n",
      "\n",
      "See the caveats in the documentation: https://pandas.pydata.org/pandas-docs/stable/user_guide/indexing.html#returning-a-view-versus-a-copy\n",
      "<string>:4: SettingWithCopyWarning: \n",
      "A value is trying to be set on a copy of a slice from a DataFrame.\n",
      "Try using .loc[row_indexer,col_indexer] = value instead\n",
      "\n",
      "See the caveats in the documentation: https://pandas.pydata.org/pandas-docs/stable/user_guide/indexing.html#returning-a-view-versus-a-copy\n",
      "<string>:5: SettingWithCopyWarning: \n",
      "A value is trying to be set on a copy of a slice from a DataFrame.\n",
      "Try using .loc[row_indexer,col_indexer] = value instead\n",
      "\n",
      "See the caveats in the documentation: https://pandas.pydata.org/pandas-docs/stable/user_guide/indexing.html#returning-a-view-versus-a-copy\n",
      "<string>:7: SettingWithCopyWarning: \n",
      "A value is trying to be set on a copy of a slice from a DataFrame.\n",
      "Try using .loc[row_indexer,col_indexer] = value instead\n",
      "\n",
      "See the caveats in the documentation: https://pandas.pydata.org/pandas-docs/stable/user_guide/indexing.html#returning-a-view-versus-a-copy\n",
      "<string>:9: SettingWithCopyWarning: \n",
      "A value is trying to be set on a copy of a slice from a DataFrame.\n",
      "Try using .loc[row_indexer,col_indexer] = value instead\n",
      "\n",
      "See the caveats in the documentation: https://pandas.pydata.org/pandas-docs/stable/user_guide/indexing.html#returning-a-view-versus-a-copy\n",
      "<string>:11: SettingWithCopyWarning: \n",
      "A value is trying to be set on a copy of a slice from a DataFrame.\n",
      "Try using .loc[row_indexer,col_indexer] = value instead\n",
      "\n",
      "See the caveats in the documentation: https://pandas.pydata.org/pandas-docs/stable/user_guide/indexing.html#returning-a-view-versus-a-copy\n",
      "<string>:13: SettingWithCopyWarning: \n",
      "A value is trying to be set on a copy of a slice from a DataFrame.\n",
      "Try using .loc[row_indexer,col_indexer] = value instead\n",
      "\n",
      "See the caveats in the documentation: https://pandas.pydata.org/pandas-docs/stable/user_guide/indexing.html#returning-a-view-versus-a-copy\n",
      "<string>:16: SettingWithCopyWarning: \n",
      "A value is trying to be set on a copy of a slice from a DataFrame.\n",
      "Try using .loc[row_indexer,col_indexer] = value instead\n",
      "\n",
      "See the caveats in the documentation: https://pandas.pydata.org/pandas-docs/stable/user_guide/indexing.html#returning-a-view-versus-a-copy\n",
      "<string>:19: SettingWithCopyWarning: \n",
      "A value is trying to be set on a copy of a slice from a DataFrame.\n",
      "Try using .loc[row_indexer,col_indexer] = value instead\n",
      "\n",
      "See the caveats in the documentation: https://pandas.pydata.org/pandas-docs/stable/user_guide/indexing.html#returning-a-view-versus-a-copy\n",
      "<string>:20: SettingWithCopyWarning: \n",
      "A value is trying to be set on a copy of a slice from a DataFrame.\n",
      "Try using .loc[row_indexer,col_indexer] = value instead\n",
      "\n",
      "See the caveats in the documentation: https://pandas.pydata.org/pandas-docs/stable/user_guide/indexing.html#returning-a-view-versus-a-copy\n",
      "<string>:23: SettingWithCopyWarning: \n",
      "A value is trying to be set on a copy of a slice from a DataFrame.\n",
      "Try using .loc[row_indexer,col_indexer] = value instead\n",
      "\n",
      "See the caveats in the documentation: https://pandas.pydata.org/pandas-docs/stable/user_guide/indexing.html#returning-a-view-versus-a-copy\n",
      "<string>:25: SettingWithCopyWarning: \n",
      "A value is trying to be set on a copy of a slice from a DataFrame.\n",
      "Try using .loc[row_indexer,col_indexer] = value instead\n",
      "\n",
      "See the caveats in the documentation: https://pandas.pydata.org/pandas-docs/stable/user_guide/indexing.html#returning-a-view-versus-a-copy\n",
      "C:\\Users\\dgao\\Anaconda3\\lib\\site-packages\\pandas\\core\\ops\\array_ops.py:253: FutureWarning: elementwise comparison failed; returning scalar instead, but in the future will perform elementwise comparison\n",
      "  res_values = method(rvalues)\n",
      "<string>:6: SettingWithCopyWarning: \n",
      "A value is trying to be set on a copy of a slice from a DataFrame.\n",
      "Try using .loc[row_indexer,col_indexer] = value instead\n",
      "\n",
      "See the caveats in the documentation: https://pandas.pydata.org/pandas-docs/stable/user_guide/indexing.html#returning-a-view-versus-a-copy\n",
      "C:\\Users\\dgao\\Anaconda3\\lib\\site-packages\\pandas\\core\\indexing.py:845: SettingWithCopyWarning: \n",
      "A value is trying to be set on a copy of a slice from a DataFrame.\n",
      "Try using .loc[row_indexer,col_indexer] = value instead\n",
      "\n",
      "See the caveats in the documentation: https://pandas.pydata.org/pandas-docs/stable/user_guide/indexing.html#returning-a-view-versus-a-copy\n",
      "  self.obj[key] = _infer_fill_value(value)\n",
      "C:\\Users\\dgao\\Anaconda3\\lib\\site-packages\\pandas\\core\\indexing.py:966: SettingWithCopyWarning: \n",
      "A value is trying to be set on a copy of a slice from a DataFrame.\n",
      "Try using .loc[row_indexer,col_indexer] = value instead\n",
      "\n",
      "See the caveats in the documentation: https://pandas.pydata.org/pandas-docs/stable/user_guide/indexing.html#returning-a-view-versus-a-copy\n",
      "  self.obj[item] = s\n"
     ]
    },
    {
     "name": "stdout",
     "output_type": "stream",
     "text": [
      "importing Jupyter notebook from patients.ipynb\n",
      "0 C:/Users/dgao/Box/Intern Data Models/224-001/dm.xlsx\n",
      "1 C:/Users/dgao/Box/Intern Data Models/461-004/dm1.sas7bdat\n",
      "2 C:/Users/dgao/Box/Intern Data Models/461-005/dm1.sas7bdat\n",
      "3 C:/Users/dgao/Box/Intern Data Models/461-005/dm2.sas7bdat\n",
      "4 C:/Users/dgao/Box/Intern Data Models/461-006/dm1.sas7bdat\n",
      "5 C:/Users/dgao/Box/Intern Data Models/461-006/dm2.sas7bdat\n",
      "6 C:/Users/dgao/Box/Intern Data Models/461-007/dm1.sas7bdat\n",
      "7 C:/Users/dgao/Box/Intern Data Models/461-008/dm1.sas7bdat\n",
      "8 C:/Users/dgao/Box/Intern Data Models/461-012/dta_demographics.txt\n",
      "9 C:/Users/dgao/Box/Intern Data Models/461-013/dm.sas7bdat\n",
      "10 C:/Users/dgao/Box/Intern Data Models/461-014/dta_demographics.txt\n",
      "11 C:/Users/dgao/Box/Intern Data Models/461-015/dm.sas7bdat\n",
      "12 C:/Users/dgao/Box/Intern Data Models/461-018/dta_demographics.xlsx\n",
      "13 C:/Users/dgao/Box/Intern Data Models/491-003/MAD Cohort/xdm_mad.sas7bdat\n",
      "14 C:/Users/dgao/Box/Intern Data Models/491-003/SAD Cohort/xdm.sas7bdat\n"
     ]
    },
    {
     "name": "stderr",
     "output_type": "stream",
     "text": [
      "<string>:1: SettingWithCopyWarning: \n",
      "A value is trying to be set on a copy of a slice from a DataFrame.\n",
      "Try using .loc[row_indexer,col_indexer] = value instead\n",
      "\n",
      "See the caveats in the documentation: https://pandas.pydata.org/pandas-docs/stable/user_guide/indexing.html#returning-a-view-versus-a-copy\n",
      "<string>:2: SettingWithCopyWarning: \n",
      "A value is trying to be set on a copy of a slice from a DataFrame.\n",
      "Try using .loc[row_indexer,col_indexer] = value instead\n",
      "\n",
      "See the caveats in the documentation: https://pandas.pydata.org/pandas-docs/stable/user_guide/indexing.html#returning-a-view-versus-a-copy\n",
      "<string>:27: SettingWithCopyWarning: \n",
      "A value is trying to be set on a copy of a slice from a DataFrame.\n",
      "Try using .loc[row_indexer,col_indexer] = value instead\n",
      "\n",
      "See the caveats in the documentation: https://pandas.pydata.org/pandas-docs/stable/user_guide/indexing.html#returning-a-view-versus-a-copy\n"
     ]
    },
    {
     "name": "stdout",
     "output_type": "stream",
     "text": [
      "This is the initial number of patients added into PATIENTS table from demographic data from \n",
      " 224-001 \n",
      " 461-004 \n",
      " 461-005 \n",
      " 461-006 \n",
      " 461-007 \n",
      " 461-008 \n",
      " 461-012 \n",
      " 461-013 \n",
      " 461-014 \n",
      " 461-015 \n",
      " 461-018 \n",
      " 491-003 MAD/SAD: \n",
      " 868\n",
      "This is number patients after adding demog data from 461-014:  890\n",
      "This is number patients after adding any patients from SCREEN_FAILS1 who do not already appear in PATIENTS:  1180\n",
      "1179\n",
      "Number patients from PATIENTS:  1180\n",
      "Unique number patients from PATIENT_VISITS:  1308\n",
      "Number patients from patients_from_visits:  1308\n",
      "Number patients before adding patients_from_visits:  1180\n",
      "Number patients after adding patients_from_visits:  1309\n",
      "This difference indicates patients who were included in visits logs, but who were not added into PATIENTS from demographic data OR SCREEN_FAILS data.\n"
     ]
    },
    {
     "name": "stderr",
     "output_type": "stream",
     "text": [
      "<string>:29: SettingWithCopyWarning: \n",
      "A value is trying to be set on a copy of a slice from a DataFrame.\n",
      "Try using .loc[row_indexer,col_indexer] = value instead\n",
      "\n",
      "See the caveats in the documentation: https://pandas.pydata.org/pandas-docs/stable/user_guide/indexing.html#returning-a-view-versus-a-copy\n",
      "<string>:8: SettingWithCopyWarning: \n",
      "A value is trying to be set on a copy of a slice from a DataFrame.\n",
      "Try using .loc[row_indexer,col_indexer] = value instead\n",
      "\n",
      "See the caveats in the documentation: https://pandas.pydata.org/pandas-docs/stable/user_guide/indexing.html#returning-a-view-versus-a-copy\n"
     ]
    },
    {
     "name": "stdout",
     "output_type": "stream",
     "text": [
      "The number of patients that are common in patients and patient visits:  1308\n",
      "The patients table has a count of:  1309\n",
      "The patient visits table has a unique count of:  1308\n",
      "These are the patients who were added into PATIENTS but do not appear in PATIENT_VISITS:  {'461-005-902-101'}\n",
      "importing Jupyter notebook from myk_studies.ipynb\n"
     ]
    }
   ],
   "source": [
    "import numpy as np\n",
    "import pandas as pd\n",
    "import import_ipynb\n",
    "from study_sites import SITES\n",
    "from patients import PATIENTS\n",
    "from myk_studies import STUDIES\n",
    "from screen_fails import PATIENT_VISITS"
   ]
  },
  {
   "cell_type": "code",
   "execution_count": 2,
   "metadata": {},
   "outputs": [],
   "source": [
    "def calc_study_patient_size(groupby_df):\n",
    "    num_randomized = groupby_df[(groupby_df.status=='Randomized')|(groupby_df.status=='Study Completed')|(groupby_df.status=='Screened')].shape[0]\n",
    "    groupby_df['study_patient_size'] = num_randomized\n",
    "    for i,row in groupby_df.iterrows():\n",
    "        groupby_df.loc[i,'patient_proportion'] = 1/groupby_df.shape[0]\n",
    "    return groupby_df"
   ]
  },
  {
   "cell_type": "code",
   "execution_count": 3,
   "metadata": {},
   "outputs": [],
   "source": [
    "def add_sd_age_col(df):\n",
    "    def find_avg_age(groupby_df):\n",
    "        randomized = groupby_df[(groupby_df.status=='Randomized')|(groupby_df.status=='Study Completed') | (groupby_df.status=='Screened')]\n",
    "        groupby_df['sd_for_age'] = groupby_df.age.std()\n",
    "        for i,row in groupby_df.iterrows():\n",
    "            groupby_df.loc[i,'sd_from_avg_age'] = round(((groupby_df.loc[i,'age'] - groupby_df.age.mean()) / groupby_df.loc[i,'sd_for_age'])*4) / 4\n",
    "            if groupby_df.loc[i,'sd_from_avg_age'] == -0.0:\n",
    "                groupby_df.loc[i,'sd_from_avg_age'] = 0.0\n",
    "        return groupby_df\n",
    "    df = df.groupby('study_id').apply(find_avg_age)\n",
    "    df = df.drop(['sd_for_age'],axis=1)\n",
    "    return df"
   ]
  },
  {
   "cell_type": "code",
   "execution_count": 4,
   "metadata": {},
   "outputs": [],
   "source": [
    "def prepare_cols_for_analysis(df):\n",
    "    df['has_parent_study'] = 0\n",
    "    df['is_double_blind'] = 0\n",
    "    df['is_open_label'] = 0\n",
    "    for i,row in df.iterrows():\n",
    "        if len(row.parent_study)>0:\n",
    "            df.loc[i,'has_parent_study'] = 1\n",
    "        if 'double-blind' in row.study_description.lower():\n",
    "            df.loc[i,'is_double_blind'] = 1\n",
    "        if 'open-label' in row.study_description.lower():\n",
    "            df.loc[i,'is_open_label'] = 1\n",
    "    df['sd_from_avg_age'] = df.sd_from_avg_age.apply(lambda x: float(x))\n",
    "    df = df.drop(['parent_study','study_description'],axis=1)\n",
    "    return df"
   ]
  },
  {
   "cell_type": "code",
   "execution_count": 5,
   "metadata": {},
   "outputs": [
    {
     "data": {
      "text/plain": [
       "{'461-005-902-101'}"
      ]
     },
     "execution_count": 5,
     "metadata": {},
     "output_type": "execute_result"
    }
   ],
   "source": [
    "pids = set(PATIENTS.patient_id.values)\n",
    "pvs = set(PATIENT_VISITS.patient_id.values)\n",
    "# 461-005-902-101 is the ONE patient who has a patient ID but does not have any associated visit data\n",
    "pids - pvs"
   ]
  },
  {
   "cell_type": "code",
   "execution_count": 6,
   "metadata": {},
   "outputs": [],
   "source": [
    "patient_data = pd.merge(PATIENTS,PATIENT_VISITS,how='outer',on='patient_id')\n",
    "patient_data = patient_data.drop_duplicates(subset=['patient_id','study_id'])\n",
    "patient_data = patient_data.replace({'myk_491_003_mad':'myk_491_003','myk_491_003_sad':'myk_491_003'})\n",
    "patient_data = pd.merge(patient_data,STUDIES,how='left',on='study_id')\n",
    "patient_data = pd.merge(patient_data,SITES,how='left',on='site_id')\n",
    "patient_data['age'] = patient_data.age_in_days / 365.24\n",
    "patient_data = patient_data.drop(['age_in_days','assigned_drug','drug_desc','treatment','finished','quant_dispensed','race_ancstr','orig_visit_idx','active','SITES_idx','study_id_y','orig_site_id'],axis=1).rename(columns={'study_id_x':'study_id'})\n",
    "patient_data = patient_data[(patient_data.status == 'Screen Failed') | (patient_data.status=='Study Completed') | (patient_data.status=='Randomized') | (patient_data.status=='Screened')]\n",
    "patient_data = patient_data.groupby('study_id').apply(calc_study_patient_size)\n",
    "patient_data = add_sd_age_col(patient_data)\n",
    "patient_data = prepare_cols_for_analysis(patient_data)\n",
    "patient_data['phase'] = patient_data.phase.apply(lambda x: int(x))\n",
    "patient_data['site_id'] = patient_data.site_id.apply(lambda x: int(x))"
   ]
  },
  {
   "cell_type": "code",
   "execution_count": 7,
   "metadata": {},
   "outputs": [],
   "source": [
    "screen_failed = patient_data[patient_data.status=='Screen Failed']\n",
    "randomized = patient_data[patient_data.status != 'Screen Failed']"
   ]
  },
  {
   "cell_type": "code",
   "execution_count": 8,
   "metadata": {},
   "outputs": [],
   "source": [
    "screen_failed.to_csv('C:/Users/dgao/Desktop/Spotfire_DATA/train_data_SF.csv')\n",
    "randomized.to_csv('C:/Users/dgao/Desktop/Spotfire_DATA/train_data_random.csv')"
   ]
  },
  {
   "cell_type": "code",
   "execution_count": 9,
   "metadata": {},
   "outputs": [
    {
     "data": {
      "text/plain": [
       " 0.25    79\n",
       " 0.00    76\n",
       " 0.75    71\n",
       "-0.50    55\n",
       " 0.50    55\n",
       " 1.00    54\n",
       "-0.25    53\n",
       "-0.75    53\n",
       "-1.00    41\n",
       " 1.25    37\n",
       "-1.25    28\n",
       "-1.50    23\n",
       " 1.50    20\n",
       "-1.75    14\n",
       " 1.75    13\n",
       "-2.25     8\n",
       "-2.75     7\n",
       " 2.00     6\n",
       "-2.00     5\n",
       "-3.25     4\n",
       "-2.50     4\n",
       "-3.50     1\n",
       "-3.00     1\n",
       "Name: sd_from_avg_age, dtype: int64"
      ]
     },
     "execution_count": 9,
     "metadata": {},
     "output_type": "execute_result"
    }
   ],
   "source": [
    "patient_data.sd_from_avg_age.value_counts()\n",
    "screen_failed.sd_from_avg_age.value_counts()\n",
    "randomized.sd_from_avg_age.value_counts()"
   ]
  },
  {
   "cell_type": "code",
   "execution_count": null,
   "metadata": {},
   "outputs": [],
   "source": []
  }
 ],
 "metadata": {
  "kernelspec": {
   "display_name": "Python 3",
   "language": "python",
   "name": "python3"
  },
  "language_info": {
   "codemirror_mode": {
    "name": "ipython",
    "version": 3
   },
   "file_extension": ".py",
   "mimetype": "text/x-python",
   "name": "python",
   "nbconvert_exporter": "python",
   "pygments_lexer": "ipython3",
   "version": "3.8.3"
  }
 },
 "nbformat": 4,
 "nbformat_minor": 4
}
